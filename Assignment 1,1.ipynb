{
 "cells": [
  {
   "cell_type": "code",
   "execution_count": null,
   "metadata": {},
   "outputs": [],
   "source": [
    "from PIL import Image\n",
    "from numpy import asarray\n",
    "from os import listdir\n",
    "from matplotlib import image\n",
    "from numpy import asarray\n",
    "# load the images\n",
    "loaded_images = list()\n",
    "for filename in listdir('assignments'):\n",
    "\t# load image\n",
    "\timg_data = image.imread('assignments/' + filename)\n",
    "\t# store loaded image\n",
    "\tloaded_images.append(img_data)\n",
    "\tprint('> loaded %s %s' % (filename, img_data.shape))\n",
    "    #convert into array\n",
    "data = asarray(loaded_images)\n",
    "#resize image\n",
    "image_resized =data.resize((200,200))\n",
    "gs_image.save('icecream3.jpg')"
   ]
  },
  {
   "cell_type": "code",
   "execution_count": null,
   "metadata": {},
   "outputs": [],
   "source": []
  }
 ],
 "metadata": {
  "kernelspec": {
   "display_name": "Python 3",
   "language": "python",
   "name": "python3"
  },
  "language_info": {
   "codemirror_mode": {
    "name": "ipython",
    "version": 3
   },
   "file_extension": ".py",
   "mimetype": "text/x-python",
   "name": "python",
   "nbconvert_exporter": "python",
   "pygments_lexer": "ipython3",
   "version": "3.7.3"
  }
 },
 "nbformat": 4,
 "nbformat_minor": 2
}
